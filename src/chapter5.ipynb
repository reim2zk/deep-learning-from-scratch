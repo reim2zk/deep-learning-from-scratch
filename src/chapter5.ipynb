{
 "cells": [
  {
   "cell_type": "markdown",
   "metadata": {},
   "source": [
    "# 第５章　誤差逆伝搬法"
   ]
  },
  {
   "cell_type": "markdown",
   "metadata": {},
   "source": [
    "第4章では数値微分と勾配法を使って、ニューラルネットワークの学習が可能であることを示しました。実際の学習では計算時間および計算精度の観点から数値微分は使われずに、ニューラルネットワークの解析的微分を効率よく計算するためのアルゴリズムである誤差逆伝搬法が使われます。この章では誤差逆伝搬法を学習します。"
   ]
  },
  {
   "cell_type": "markdown",
   "metadata": {},
   "source": [
    "## 単純な関数の解析的微分"
   ]
  },
  {
   "cell_type": "markdown",
   "metadata": {},
   "source": [
    "単純な関数の微分は解析的な表現が知られていることが多いです。\n",
    "\n",
    "$$\n",
    "f(x) = x^n \\Rightarrow \\frac{df}{dx} = nx^{n-1} \\\\\n",
    "f(x) = \\sin(ax) \\Rightarrow \\frac{df}{dx} = a\\cos(ax) \\\\\n",
    "f(x) = \\cos(ax) \\Rightarrow \\frac{df}{dx} = -a\\sin(ax) \\\\\n",
    "f(x) = \\exp(ax) \\Rightarrow \\frac{df}{dx} = a\\exp(ax)\n",
    "$$\n"
   ]
  },
  {
   "cell_type": "markdown",
   "metadata": {},
   "source": [
    "## 合成関数の微分"
   ]
  },
  {
   "cell_type": "markdown",
   "metadata": {},
   "source": [
    "では、複雑な関数の微分はどのように計算するのでしょうか。ここで二つの関数\n",
    "$$\n",
    "y = f(x) \\\\\n",
    "z = g(y)\n",
    "$$\n",
    "が与えられていると、その合成関数$g\\circ f$を考えます。\n",
    "$$\n",
    "(g\\circ f)(x) = g(f(x))\n",
    "$$\n",
    "\n",
    "多くの複雑な関数は単純な関数の合成で表現することができることに注意してください。\n",
    "実は、合成関数$g\\circ f$の微分は次のように、部品となった関数$f, g$の微分で表現することができます。\n",
    "\n",
    "$$\n",
    "    \\frac{dz}{dx} = \\frac{dz}{dy} \\frac{dy}{dx}\n",
    "$$"
   ]
  },
  {
   "cell_type": "markdown",
   "metadata": {},
   "source": [
    "変数が複数ある場合は偏微分を使った次のような拡張が必要になります。例えば次のような関数を考えます。\n",
    "$$\n",
    "y_1 = f_1(x_1, x_2) \\\\\n",
    "y_2 = f_2(x_1, x_2) \\\\\n",
    "z = g(y_1, y_2)\n",
    "$$\n",
    "ここで、偏微分は次のように計算できることが知られています。\n",
    "$$\n",
    "\\frac{\\partial z}{\\partial x_1} = \\frac{\\partial z}{\\partial y_1}\\frac{\\partial y_1}{\\partial x_1} + \\frac{\\partial z}{\\partial y_2}\\frac{\\partial y_2}{\\partial x_1}\n",
    "$$\n",
    "一般化して、ベクトルで表現すると、\n",
    "$$\n",
    "    {\\bf y} = {\\bf f}({\\bf x}) \\\\\n",
    "    z = g({\\bf y})\n",
    "$$\n",
    "に対して、\n",
    "$$\n",
    "    \\frac{\\partial z}{\\partial x_1} = \\frac{\\partial z}{\\partial {\\bf y}} \\cdot \\frac{\\partial {\\bf y}}{\\partial x_1}\n",
    "$$\n",
    "と表現される"
   ]
  },
  {
   "cell_type": "markdown",
   "metadata": {},
   "source": [
    "# ニューラルネットワークの場合"
   ]
  },
  {
   "cell_type": "markdown",
   "metadata": {},
   "source": [
    "ニューラルネットワークは行列積と活性化層による非線形変換の組み合わせで表現されます。例えばニューラルネットワークの単一層は次のように表現されます。\n",
    "$$\n",
    "    {\\bf a} = {\\bf W}{\\bf x} + {\\bf B} \\\\\n",
    "    {\\bf z} = {\\bf h}({\\bf a})\n",
    "$$\n",
    "出力${\\bf z}$の重みに対する微分は次のように表現できます。\n",
    "$$\n",
    "    \\frac{\\partial {\\bf z}}{\\partial{\\bf W}} \n",
    "    = \\frac{\\partial {\\bf z}}{\\partial{\\bf a}}\\cdot \\frac{\\partial {\\bf a}}{\\partial{\\bf W}} \\\\\n",
    "    = {\\bf h}'({\\bf a})\\cdot {\\bf x}\n",
    "$$"
   ]
  },
  {
   "cell_type": "markdown",
   "metadata": {},
   "source": [
    "## 単純なレイヤの実装\n",
    "\n",
    "計算グラフの乗算ノードを「乗算レイヤ(MulLayer)」、加算ノードを「加算レイヤ(AddLayer)」として実装する。\n",
    "\n",
    "### 乗算レイヤの実装"
   ]
  },
  {
   "cell_type": "code",
   "execution_count": 9,
   "metadata": {},
   "outputs": [],
   "source": [
    "class MulLayer:\n",
    "    def __init__(self):\n",
    "        self.x = None\n",
    "        self.y = None\n",
    "\n",
    "    def forward(self, x, y):\n",
    "        self.x = x\n",
    "        self.y = y\n",
    "        out = x * y\n",
    "        return out\n",
    "\n",
    "    def backward(self, dout):\n",
    "        dx = dout * self.y # xとyをひっくり返す\n",
    "        dy = dout * self.x\n",
    "        return dx, dy"
   ]
  },
  {
   "cell_type": "code",
   "execution_count": 10,
   "metadata": {},
   "outputs": [
    {
     "name": "stdout",
     "output_type": "stream",
     "text": [
      "220.00000000000003\n"
     ]
    }
   ],
   "source": [
    "apple = 100\n",
    "apple_num = 2\n",
    "tax = 1.1\n",
    "\n",
    "# layer\n",
    "mul_apple_layer = MulLayer()\n",
    "mul_tax_layer = MulLayer()\n",
    "\n",
    "# forward\n",
    "apple_price = mul_apple_layer.forward(apple, apple_num)\n",
    "price = mul_tax_layer.forward(apple_price, tax)\n",
    "print(price) # 220"
   ]
  },
  {
   "cell_type": "markdown",
   "metadata": {},
   "source": [
    "### 加算レイヤの実装"
   ]
  },
  {
   "cell_type": "code",
   "execution_count": 11,
   "metadata": {},
   "outputs": [],
   "source": [
    "class AddLayer:\n",
    "    def __init__(self):\n",
    "        pass\n",
    "    \n",
    "    def forward(self, x, y):\n",
    "        out = x + y\n",
    "        return out\n",
    "    \n",
    "    def backward(self, dout):\n",
    "        dx = dout * 1\n",
    "        dy = dout * 1\n",
    "        return dx, dy"
   ]
  },
  {
   "cell_type": "code",
   "execution_count": 12,
   "metadata": {},
   "outputs": [
    {
     "name": "stdout",
     "output_type": "stream",
     "text": [
      "715.0000000000001\n",
      "110.00000000000001 2.2 3.3000000000000003 165.0 650\n"
     ]
    }
   ],
   "source": [
    "apple = 100\n",
    "apple_num = 2 \n",
    "orange = 150 \n",
    "orange_num = 3 \n",
    "tax = 1.1\n",
    "\n",
    "# layer\n",
    "mul_apple_layer = MulLayer() \n",
    "mul_orange_layer = MulLayer() \n",
    "add_apple_orange_layer = AddLayer() \n",
    "mul_tax_layer = MulLayer()\n",
    "\n",
    "# forward\n",
    "apple_price = mul_apple_layer.forward(apple, apple_num) #(1)\n",
    "orange_price = mul_orange_layer.forward(orange, orange_num) #(2)\n",
    "all_price = add_apple_orange_layer.forward(apple_price, orange_price) #(3) \n",
    "price = mul_tax_layer.forward(all_price, tax) #(4)\n",
    "\n",
    "# backward\n",
    "dprice = 1\n",
    "dall_price, dtax = mul_tax_layer.backward(dprice) #(4)\n",
    "dapple_price, dorange_price = add_apple_orange_layer.backward(dall_price) #(3) \n",
    "dorange, dorange_num = mul_orange_layer.backward(dorange_price) #(2)\n",
    "dapple, dapple_num = mul_apple_layer.backward(dapple_price) #(1)\n",
    "print(price) # 715\n",
    "print(dapple_num, dapple, dorange, dorange_num, dtax) # 110 2.2 3.3 165 650"
   ]
  },
  {
   "cell_type": "markdown",
   "metadata": {},
   "source": [
    "## 活性化関数レイヤの実装\n",
    "\n",
    "### ReLU レイヤ\n",
    "\n",
    "ReLU(Rectified Linear Unit)\n",
    "$$\n",
    "\\begin{eqnarray}\n",
    "\\left\\{\n",
    "y = \n",
    "\\begin{array}{l}\n",
    "x (x>0) \\\\\n",
    "0 (x\\leqq0)\n",
    "\\end{array}\n",
    "\\right.\n",
    "\\end{eqnarray}\n",
    "$$\n",
    "\n",
    "上記の$x$に関する$y$の微分\n",
    "$$\n",
    "\\begin{eqnarray}\n",
    "\\left\\{\n",
    "\\frac{\\partial y}{\\partial x} = \n",
    "\\begin{array}{l}\n",
    "1 (x>0) \\\\\n",
    "0 (x\\leqq0)\n",
    "\\end{array}\n",
    "\\right.\n",
    "\\end{eqnarray}\n",
    "$$\n"
   ]
  },
  {
   "cell_type": "code",
   "execution_count": 13,
   "metadata": {},
   "outputs": [],
   "source": [
    "class Relu:\n",
    "    def __init__(self):\n",
    "        self.mask = None\n",
    "\n",
    "    def forward(self, x):\n",
    "        self.mask = (x <= 0)\n",
    "        out = x.copy()\n",
    "        out[self.mask] = 0\n",
    "        return out\n",
    "\n",
    "    def backward(self, dout):\n",
    "        dout[self.mask] = 0\n",
    "        dx = dout\n",
    "        return dx"
   ]
  },
  {
   "cell_type": "markdown",
   "metadata": {},
   "source": [
    "### Sigmoid レイヤ\n",
    "\n",
    "Sigmoid関数\n",
    "\n",
    "$$\n",
    "y = \\frac{1}{1+{\\rm exp}(-x)}\n",
    "$$\n",
    "\n",
    "計算グラフ\n",
    "\n",
    "1. $-x$ ..($y_1=-x$)\n",
    "\n",
    "2. ${{\\rm exp}(-x)}$ ..($y_2={\\rm exp}(y_1)$)\n",
    "\n",
    "3. $1+{{\\rm exp}(-x)}$ ..($y_3={1+y_2}$)\n",
    "\n",
    "4. $\\frac{1}{1+{{\\rm exp}(-x)}}$ ..($y=\\frac{1}{y_3}$)\n",
    "\n",
    "逆伝搬の流れ\n",
    "\n",
    "4.->3.->2.->1. のように$y$から$x$へ逆順で微分値を伝搬していく\n",
    "\n",
    "$$\n",
    "\\frac{\\partial y}{\\partial x} = \\frac{\\partial y}{\\partial y_3}\\frac{\\partial y_3}{\\partial y_2}\\frac{\\partial y_2}{\\partial y_1}\\frac{\\partial y_1}{\\partial x}\n",
    "$$\n",
    "\n",
    "4. の微分\n",
    "\n",
    "$$\n",
    "\\begin{eqnarray}\n",
    "\\frac{\\partial y}{\\partial y_3}\n",
    "&=& \\frac{\\partial}{\\partial y_3} \\frac{1}{y_3} \\\\\n",
    "&=& -\\frac{1}{y_3^2} \\\\\n",
    "&=& -y^2\n",
    "\\end{eqnarray}\n",
    "$$\n",
    "\n",
    "\n",
    "3. の微分\n",
    "\n",
    "$$\n",
    "\\begin{eqnarray}\n",
    "\\frac{\\partial y_3}{\\partial y_2}\n",
    "&=& \\frac{\\partial}{\\partial y_2}1+y_2 \\\\\n",
    "&=& 1\n",
    "\\end{eqnarray}\n",
    "$$\n",
    "$$\n",
    "\\frac{\\partial y}{\\partial y_2} = -y^2 \n",
    "$$\n",
    "\n",
    "2. の微分\n",
    "\n",
    "$$\n",
    "\\begin{eqnarray}\n",
    "\\frac{\\partial y_2}{\\partial y_1}\n",
    "&=& \\frac{\\partial}{\\partial y_1} {\\rm exp}(y_1) \\\\\n",
    "&=& {\\rm exp}(y_1) \\\\\n",
    "&=& {\\rm exp}(-x)\n",
    "\\end{eqnarray}\n",
    "$$\n",
    "$$\n",
    "\\begin{eqnarray}\n",
    "\\frac{\\partial y}{\\partial y_1} = -y^2 {\\rm exp}(-x)\n",
    "\\end{eqnarray}\n",
    "$$\n",
    "\n",
    "\n",
    "\n",
    "1. の微分\n",
    "\n",
    "$$\n",
    "\\begin{eqnarray}\n",
    "\\frac{\\partial y_1}{\\partial 1}\n",
    "&=& \\frac{\\partial}{\\partial x} -x \\\\\n",
    "&=& -1\n",
    "\\end{eqnarray}\n",
    "$$\n",
    "$$\n",
    "\\frac{\\partial y}{\\partial x} = y^2 {\\rm exp}(-x)\n",
    "$$\n",
    "\n",
    "これは下記のように整理できる\n",
    "\n",
    "$$\n",
    "\\begin{eqnarray}\n",
    "y^2 {\\rm exp}(-x) \n",
    "&=& \\frac{1}{(1 + {\\rm exp}(-x))^2}{\\rm exp}(-x) \\\\\n",
    "&=& \\frac{1}{1 + {\\rm exp}(-x)}\\frac{{\\rm exp}(-x)}{1 + {\\rm exp} (-x)} \\\\\n",
    "&=& y(1 - y)\n",
    "\\end{eqnarray}\n",
    "$$\n",
    "\n",
    "整理の結果$x$を使わなくてよくなった\n",
    "\n",
    "Sigmoid関数の逆伝搬値は、順伝搬の出力結果$y$だけから計算することができる\n",
    "\n",
    "順伝搬： $x$ → sigmoid → $y$\n",
    "\n",
    "逆伝搬： $\\frac{\\partial L}{\\partial y}y(1-y)$ ← sigmoid ← $\\frac{\\partial L}{\\partial y}$\n",
    "\n",
    "$  \\frac{\\partial L}{\\partial x} = \\frac{\\partial L}{\\partial y}y(1-y) $\n"
   ]
  },
  {
   "cell_type": "code",
   "execution_count": 14,
   "metadata": {},
   "outputs": [],
   "source": [
    "class Sigmoid:\n",
    "    def __init__(self):\n",
    "        self.out = None\n",
    "\n",
    "    def forward(self, x):\n",
    "        out = 1 / (1 + np.exp(-x))\n",
    "        self.out = out\n",
    "        return out\n",
    "        \n",
    "    def backward(self, dout):\n",
    "        dx = dout * (1.0 - self.out) * self.out\n",
    "        return dx"
   ]
  },
  {
   "cell_type": "markdown",
   "metadata": {},
   "source": [
    "## 5.6 Affine ／ Softmax レイヤの実装\n",
    "\n",
    "### 5.6.1 Affine レイヤ\n",
    "\n",
    "\n"
   ]
  },
  {
   "cell_type": "code",
   "execution_count": 15,
   "metadata": {},
   "outputs": [
    {
     "name": "stdout",
     "output_type": "stream",
     "text": [
      "[0.82824056 0.40601607]\n",
      "[[0.76025466 0.16582513 0.12144279]\n",
      " [0.97198465 0.36913364 0.91313187]]\n",
      "[0.99180796 0.67971729 0.20091332]\n",
      "[2.0161231  0.96693458 0.67224338]\n"
     ]
    }
   ],
   "source": [
    "import numpy as np\n",
    "X = np.random.rand(2) # 入力\n",
    "W = np.random.rand(2,3) # 重み\n",
    "B = np.random.rand(3) # バイアス\n",
    "\n",
    "X.shape # (2,)\n",
    "W.shape # (2, 3)\n",
    "B.shape # (3,)\n",
    "\n",
    "Y = np.dot(X, W) + B\n",
    "print(X)\n",
    "print(W)\n",
    "print(B)\n",
    "print(Y)"
   ]
  },
  {
   "cell_type": "markdown",
   "metadata": {},
   "source": [
    "グラフ\n",
    "\n",
    "1. $\\bf{X} \\cdot \\bf{W}$\n",
    "\n",
    "2. $(\\bf{X} \\cdot \\bf{W}) + \\bf{B}$\n",
    "\n",
    "逆伝搬\n",
    "\n",
    "$\\frac{\\partial L}{\\partial \\bf{X}} = \\frac{\\partial L}{\\partial \\bf{Y}} \\cdot \\bf{W}^T $\n",
    "\n",
    "$\\frac{\\partial L}{\\partial \\bf{X}} = (\\frac{\\partial L}{\\partial x_0}, \\frac{\\partial L}{\\partial x_1}, ...\\frac{\\partial L}{\\partial x_n}) $ \n",
    "\n",
    "$\\frac{\\partial L}{\\partial \\bf{W}} = \\bf{X}^T \\cdot \\frac{\\partial L}{\\partial \\bf{Y}} $ \n",
    "\n",
    "$\\frac{\\partial L}{\\partial \\bf{B}} = \\frac{\\partial L}{\\partial \\bf{Y}} $ の最初の軸に関する和 \n",
    "\n"
   ]
  },
  {
   "cell_type": "code",
   "execution_count": 16,
   "metadata": {},
   "outputs": [],
   "source": [
    "class Affine:\n",
    "    def __init__(self, W, b):\n",
    "        self.W = W\n",
    "        self.b = b\n",
    "        self.x = None\n",
    "        self.dW = None\n",
    "        self.db = None\n",
    "    \n",
    "    def forward(self, x):\n",
    "        self.x = x\n",
    "        out = np.dot(x, self.W) + self.b\n",
    "        return out\n",
    "    \n",
    "    def backward(self, dout):\n",
    "        dx = np.dot(dout, self.W.T)\n",
    "        self.dW = np.dot(self.x.T, dout)\n",
    "        self.db = np.sum(dout, axis=0)\n",
    "        return dx"
   ]
  },
  {
   "cell_type": "code",
   "execution_count": null,
   "metadata": {},
   "outputs": [],
   "source": []
  }
 ],
 "metadata": {
  "kernelspec": {
   "display_name": "Python 3",
   "language": "python",
   "name": "python3"
  },
  "language_info": {
   "codemirror_mode": {
    "name": "ipython",
    "version": 3
   },
   "file_extension": ".py",
   "mimetype": "text/x-python",
   "name": "python",
   "nbconvert_exporter": "python",
   "pygments_lexer": "ipython3",
   "version": "3.7.5"
  }
 },
 "nbformat": 4,
 "nbformat_minor": 2
}
